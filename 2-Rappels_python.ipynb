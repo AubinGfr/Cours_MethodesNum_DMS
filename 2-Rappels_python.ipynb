{
 "cells": [
  {
   "cell_type": "markdown",
   "id": "4a9f9fde",
   "metadata": {},
   "source": [
    "# Introduction à Python dans un contexte de calcul scientifique"
   ]
  },
  {
   "cell_type": "markdown",
   "id": "ee7cb1cb",
   "metadata": {},
   "source": [
    "Dans le cours, la plupart des méthodes abordées seront illustrées par une implémentation en langage **Python**.\n",
    "Python est le langage de programmation le plus utilisé aujourd'hui. Sa popularité s'explique notamment par sa facilité de prise en main : la syntaxe se rapproche très fortement de l'algorithme papier et on se soucie généralement peu (au début en tout cas) des opérations sous-jacentes réalisées par l'ordinateur. On dit qu'il s'agit d'un langage **haut niveau**. Cette simplicité à un coût : les codes Python sont généralement plus lents que s'ils avaient été réalisées dans des langages plus **bas niveau** (par exemple **C++**) où le développeur doit être plus méticuleux dans les instructions réalisées par la machine. Une des particularité de Python est qu'il s'agit d'un langage **interprété**, contrairement à un langage **compilé** (C++, Fortran,...), ce qui signifie en gros que les lignes de code seront traitées une après l'autre par un autre programme nommé **interpréteur**. Nous ne détaillerons pas plus les spécificités de Python, ce qui serait inutile dans le cadre de ce cours.\n",
    "\n",
    "Même si vous avez déjà été confronté à ce langage, il est bien de rappeler quelques bases qui permettront de comprendre les implémentations. Nous focaliserons ici sur les bonnes pratiques à adopter dans un cadre de calcul scientifique."
   ]
  },
  {
   "cell_type": "markdown",
   "id": "c042ac4c",
   "metadata": {},
   "source": [
    "## Les bases"
   ]
  },
  {
   "cell_type": "markdown",
   "id": "729ad2df",
   "metadata": {},
   "source": [
    "### Type de base et instructions conditionnelles *"
   ]
  },
  {
   "cell_type": "markdown",
   "id": "3b26ed1b",
   "metadata": {},
   "source": [
    "La fonction **print()** permet d'afficher des messages et des variables. On écrit des commentaires avec #."
   ]
  },
  {
   "cell_type": "code",
   "execution_count": 45,
   "id": "31597ec2",
   "metadata": {},
   "outputs": [
    {
     "name": "stdout",
     "output_type": "stream",
     "text": [
      "Bonjour le master DMS!\n"
     ]
    }
   ],
   "source": [
    "# Première ligne de code!\n",
    "print(\"Bonjour le master DMS!\")"
   ]
  },
  {
   "cell_type": "markdown",
   "id": "d6f47882",
   "metadata": {},
   "source": [
    "On crée une variable et on lui assigne une valeur avec **=**."
   ]
  },
  {
   "cell_type": "code",
   "execution_count": 46,
   "id": "114316d7",
   "metadata": {},
   "outputs": [
    {
     "name": "stdout",
     "output_type": "stream",
     "text": [
      "1\n"
     ]
    }
   ],
   "source": [
    "a = 1 #création de la variable nommée a, de type int et valant 1 \n",
    "print(a)"
   ]
  },
  {
   "cell_type": "markdown",
   "id": "3624aa98",
   "metadata": {},
   "source": [
    "Ici, a est de type **int** : c'est un entier. Les nombres réels seront représentés par le type **float**. On distingue les deux en ajoutant un . dans la déclaration. Le type peut être affiché avec **type()**."
   ]
  },
  {
   "cell_type": "code",
   "execution_count": 47,
   "id": "3c3b7d68",
   "metadata": {},
   "outputs": [
    {
     "name": "stdout",
     "output_type": "stream",
     "text": [
      "<class 'int'>\n",
      "<class 'float'>\n"
     ]
    }
   ],
   "source": [
    "b_int = 2\n",
    "print(type(b_int))\n",
    "\n",
    "b_float = 2.\n",
    "print(type(b_float))"
   ]
  },
  {
   "cell_type": "markdown",
   "id": "96c576a3",
   "metadata": {},
   "source": [
    "Il existe un certain nombre de type de base parmi lesquels on peut citer :\n",
    "- **str** : chaîne de caractère (pour faire très simple, des mots), annoncés avec \"\".\n",
    "- **bool** : des booléens True/False qui correspondent généralement à des valeurs de test (égalité ==, différent !=, plus petit <, plus grand >)."
   ]
  },
  {
   "cell_type": "code",
   "execution_count": 63,
   "id": "df5af4b0",
   "metadata": {},
   "outputs": [
    {
     "name": "stdout",
     "output_type": "stream",
     "text": [
      "<class 'str'>\n",
      "ab\n",
      "Is 1 equal to 2 :  False\n",
      "Is 1 lower than 2 :  True\n"
     ]
    }
   ],
   "source": [
    "c_str = \"message\"\n",
    "print(type(c_str))\n",
    "\n",
    "c_str_a = \"a\"\n",
    "c_str_b = \"b\"\n",
    "\n",
    "print(c_str_a + c_str_b)\n",
    "\n",
    "# 1 est-il égal à 2?\n",
    "c_bool_1 = (1 == 2)\n",
    "print(\"Is 1 equal to 2 : \", c_bool_1)\n",
    "\n",
    "# 1 est-il plus petit que 2?\n",
    "c_bool_2 = (1 < 2)\n",
    "print(\"Is 1 lower than 2 : \", c_bool_2)"
   ]
  },
  {
   "cell_type": "markdown",
   "id": "444aa95b",
   "metadata": {},
   "source": [
    "Les booléens permettent de réaliser des instructions conditionnelles typiquement les instructions \"Si ... faire ... Sinon faire ...\" avec **if/elif/else** et \"Tant que ... faire ...\" avec **while**."
   ]
  },
  {
   "cell_type": "code",
   "execution_count": 49,
   "id": "d0cfc378",
   "metadata": {},
   "outputs": [
    {
     "name": "stdout",
     "output_type": "stream",
     "text": [
      "Plus petit que 2\n"
     ]
    }
   ],
   "source": [
    "d = 1\n",
    "\n",
    "if (d > 2): #si d est est plus grand que 2\n",
    "    print(\"Plus grand que 2\")\n",
    "elif (d == 2): #sinon si d est égal à 2\n",
    "    print(\"Egal à 2\")\n",
    "else: #sinon\n",
    "    print(\"Plus petit que 2\")"
   ]
  },
  {
   "cell_type": "code",
   "execution_count": 50,
   "id": "661f90bd",
   "metadata": {},
   "outputs": [
    {
     "name": "stdout",
     "output_type": "stream",
     "text": [
      "0.125\n"
     ]
    }
   ],
   "source": [
    "e = 2. \n",
    "\n",
    "while (e > 0.2): #tant que e est plus grand que 0.2\n",
    "    e = e/2. #diviser la valeur de e par 2 #équivalent à e /= 2.\n",
    "print(e)"
   ]
  },
  {
   "cell_type": "markdown",
   "id": "398b192a",
   "metadata": {},
   "source": [
    "En pratique, au lieu de e = e/2., on préfèrera écrire e/=2 qui est parfaitement équivalent. Cette syntaxe marche avec tous les opérateurs classiques (+=, -=, *=,...) et sera utilisé dès qu'on veut appliquer une opération (simple) à une variable et changer sa valeur dans la foulée. \n",
    "\n",
    "Parmi les opérateurs classiques, on peut en citer certains qui ont une syntaxe particulière :\n",
    "- ** : puissance\n",
    "- % : reste de la division euclienne\n",
    "- // : quotient de la division euclidienne"
   ]
  },
  {
   "cell_type": "code",
   "execution_count": 66,
   "id": "2974b0fe",
   "metadata": {},
   "outputs": [
    {
     "name": "stdout",
     "output_type": "stream",
     "text": [
      "a :  3.0\n",
      "b :  2.0\n",
      "a**b :  9.0\n",
      "a//b :  1.0\n",
      "a%b :  1.0\n"
     ]
    }
   ],
   "source": [
    "a = 3.\n",
    "b = 2.\n",
    "\n",
    "print(\"a : \", a)\n",
    "print(\"b : \", b)\n",
    "\n",
    "print(\"a**b : \", a**b)\n",
    "print(\"a//b : \", a//b)\n",
    "print(\"a%b : \", a%b)"
   ]
  },
  {
   "cell_type": "markdown",
   "id": "8ba12d5b",
   "metadata": {},
   "source": [
    "### Structure de données *"
   ]
  },
  {
   "cell_type": "markdown",
   "id": "5766bbe3",
   "metadata": {},
   "source": [
    "On utilise généralement des **structures de données** qui permettent de stocker dans un même objet un ensemble de données. Voyons les plus usuelles."
   ]
  },
  {
   "cell_type": "markdown",
   "id": "e12beed6",
   "metadata": {},
   "source": [
    "Les **listes** sont signalés par des crochet et permettent de stocker des objets pouvant être de type différent. Un de leur avantage est qu'on peut les modifier simplement, par exemple en ajoutant/supprimer des éléments. Les objets sont indicés par un entier (int) et appelés entre crochets. Attention, la notation commence à 0 et on peut avoir des indices négatifs : le dernier élément est associé à -1, l'avant dernier à -2,..."
   ]
  },
  {
   "cell_type": "code",
   "execution_count": 52,
   "id": "2faf630f",
   "metadata": {},
   "outputs": [
    {
     "name": "stdout",
     "output_type": "stream",
     "text": [
      "[2.0, 'patate', 3]\n",
      "patate\n",
      "['patate', 3]\n",
      "ajout\n",
      "[2.0, 'patate', 3]\n",
      "3\n"
     ]
    }
   ],
   "source": [
    "L = [] #crée une liste vide #équivalent à L = list()\n",
    "L2 = [2., \"patate\", 3]\n",
    "\n",
    "print(L2) \n",
    "print(L2[1]) #affiche le 2ème élement\n",
    "print(L2[1:]) #affiche toute la liste à partir du 2ème élément\n",
    "\n",
    "L2.append(\"ajout\") #on ajoute à la liste l'élement str \"ajout\"\n",
    "print(L2[-1])\n",
    "L2.remove(\"ajout\") #on enlève \"ajout\" à la liste\n",
    "print(L2)\n",
    "\n",
    "print(len(L2)) #nombre d'element de L2"
   ]
  },
  {
   "cell_type": "markdown",
   "id": "5d9961a7",
   "metadata": {},
   "source": [
    "On parcourt les éléments de la liste avec une instruction **for**."
   ]
  },
  {
   "cell_type": "code",
   "execution_count": 53,
   "id": "232f6009",
   "metadata": {},
   "outputs": [
    {
     "name": "stdout",
     "output_type": "stream",
     "text": [
      "2.0\n",
      "patate\n",
      "3\n"
     ]
    }
   ],
   "source": [
    "L2 = [2., \"patate\", 3]\n",
    "\n",
    "for i in L2:\n",
    "    print(i)"
   ]
  },
  {
   "cell_type": "markdown",
   "id": "06b1988d",
   "metadata": {},
   "source": [
    "On peut aussi créer une liste de façon très compacte, en une seule ligne (par **compréhension**)."
   ]
  },
  {
   "cell_type": "code",
   "execution_count": 54,
   "id": "12db5e4f",
   "metadata": {},
   "outputs": [
    {
     "name": "stdout",
     "output_type": "stream",
     "text": [
      "[2, 4, 6]\n",
      "['Pas deux', 'Deux', 'Pas deux']\n"
     ]
    }
   ],
   "source": [
    "L = [1, 2, 3]\n",
    "L2 = [2*i for i in L] #nouvelle liste L2 où chaque élement de L est multiplié par 2\n",
    "L3 = [\"Deux\" if (i==2) else \"Pas deux\" for i in L] #on peut même mettre des if\n",
    "\n",
    "print(L2)\n",
    "print(L3)"
   ]
  },
  {
   "cell_type": "markdown",
   "id": "a5384abf",
   "metadata": {},
   "source": [
    "L'instruction for permet de balayer d'autres structures de données dites **itérables**. Par exemple les **range** : range(n) contient les entiers de 0 à n-1."
   ]
  },
  {
   "cell_type": "code",
   "execution_count": 55,
   "id": "80566e50",
   "metadata": {},
   "outputs": [
    {
     "name": "stdout",
     "output_type": "stream",
     "text": [
      "0\n",
      "1\n",
      "2\n",
      "\n",
      "2.0\n",
      "patate\n",
      "3\n"
     ]
    }
   ],
   "source": [
    "for i in range(3):\n",
    "    print(i)\n",
    "    \n",
    "print()\n",
    "\n",
    "L2 = [2., \"patate\", 3]\n",
    "for i in range(len(L2)): #range(len(L2)) = range(taille de L2) = range(3)\n",
    "    print(L2[i]) #L2[0], L2[1], L2[2]"
   ]
  },
  {
   "cell_type": "markdown",
   "id": "cd469a22",
   "metadata": {},
   "source": [
    "On peut aussi utiliser **enumerate** qui renvoie à la fois les indices et les élements de l'itérable."
   ]
  },
  {
   "cell_type": "code",
   "execution_count": 56,
   "id": "af240b7e",
   "metadata": {},
   "outputs": [
    {
     "name": "stdout",
     "output_type": "stream",
     "text": [
      "0 a\n",
      "1 b\n",
      "2 c\n"
     ]
    }
   ],
   "source": [
    "L = [\"a\", \"b\", \"c\"]\n",
    "for indice, element in enumerate(L):\n",
    "    print(indice, element)\n"
   ]
  },
  {
   "cell_type": "markdown",
   "id": "f0a0e61a",
   "metadata": {},
   "source": [
    "Les **tuples** sont des structures assez similaires aux listes à ceci près qu'on ne peut plus les modifier après création : contrairement aux listes, ils ne sont pas **mutables**. On les déclare avec des parenthèses. Les tuples sont aussi des objets itérables."
   ]
  },
  {
   "cell_type": "code",
   "execution_count": 57,
   "id": "433091d3",
   "metadata": {},
   "outputs": [
    {
     "name": "stdout",
     "output_type": "stream",
     "text": [
      "(2.0, 'carotte', 3)\n",
      "3\n"
     ]
    }
   ],
   "source": [
    "T = (2., \"carotte\", 3)\n",
    "\n",
    "print(T)\n",
    "print(T[2])"
   ]
  },
  {
   "cell_type": "markdown",
   "id": "c444e42c",
   "metadata": {},
   "source": [
    "Enfin, les **dictionnaires** associent une clé (un objet quelconque) à une valeur (un autre objet). On les annonce avec des accolades."
   ]
  },
  {
   "cell_type": "code",
   "execution_count": 58,
   "id": "65189110",
   "metadata": {},
   "outputs": [
    {
     "name": "stdout",
     "output_type": "stream",
     "text": [
      "{8: 3, 'une_cle': 5.4}\n",
      "dict_keys([8, 'une_cle'])\n",
      "dict_values([3, 5.4])\n",
      "3\n"
     ]
    }
   ],
   "source": [
    "D = {} #ou D = dict()\n",
    "\n",
    "D[8] = 3\n",
    "D[\"une_cle\"] = 5.4\n",
    "\n",
    "print(D)\n",
    "print(D.keys())\n",
    "print(D.values())\n",
    "print(D[8])"
   ]
  },
  {
   "cell_type": "markdown",
   "id": "b83d9b4c",
   "metadata": {},
   "source": [
    "### Fonctions *"
   ]
  },
  {
   "cell_type": "markdown",
   "id": "b7334583",
   "metadata": {},
   "source": [
    "On annonce les **fonctions** avec le mot-clé **def**. On retounera la valeur résultat avec **return**. On appelera une fonction avec ses arguments entre parenthèses."
   ]
  },
  {
   "cell_type": "code",
   "execution_count": 93,
   "id": "bb171ae5",
   "metadata": {},
   "outputs": [
    {
     "name": "stdout",
     "output_type": "stream",
     "text": [
      "2.0\n",
      "2.0\n",
      "(0.0, 2.0)\n"
     ]
    }
   ],
   "source": [
    "def f(x):\n",
    "    return x + 1.\n",
    "\n",
    "def f2(x, y):\n",
    "    return x - 1., x + 1. #on retourne 2 valeurs\n",
    "\n",
    "print(f(1))\n",
    "\n",
    "x = 1\n",
    "print(f(x))\n",
    "\n",
    "y = 2\n",
    "print(f2(x, y))"
   ]
  },
  {
   "cell_type": "markdown",
   "id": "144122a0",
   "metadata": {},
   "source": [
    "On peut aussi déclarer des (petites) fonctions de manière très compacte avec le mot-clé **lambda**."
   ]
  },
  {
   "cell_type": "code",
   "execution_count": 92,
   "id": "0dc65a49",
   "metadata": {},
   "outputs": [
    {
     "name": "stdout",
     "output_type": "stream",
     "text": [
      "2\n"
     ]
    }
   ],
   "source": [
    "f_lambda = lambda x : x + 1\n",
    "\n",
    "print(f_lambda(1))"
   ]
  },
  {
   "cell_type": "markdown",
   "id": "2af60e25",
   "metadata": {},
   "source": [
    "Les variables créées au sein d'une fonction sont détruites à la fin de la fonction : leur **portée** est dite **locale**. Les variables qui seront définies en dehors d'une fonction ont une portée **globale** : la fonction y aura accès bien qu'elles ne soient déclarées en argument."
   ]
  },
  {
   "cell_type": "code",
   "execution_count": 91,
   "id": "0ff2422b",
   "metadata": {},
   "outputs": [
    {
     "name": "stdout",
     "output_type": "stream",
     "text": [
      "4\n"
     ]
    },
    {
     "ename": "NameError",
     "evalue": "name 'variable_locale' is not defined",
     "output_type": "error",
     "traceback": [
      "\u001b[0;31m---------------------------------------------------------------------------\u001b[0m",
      "\u001b[0;31mNameError\u001b[0m                                 Traceback (most recent call last)",
      "Cell \u001b[0;32mIn[91], line 8\u001b[0m\n\u001b[1;32m      6\u001b[0m variable_globale \u001b[38;5;241m=\u001b[39m \u001b[38;5;241m4\u001b[39m\n\u001b[1;32m      7\u001b[0m f3(\u001b[38;5;241m2\u001b[39m)\n\u001b[0;32m----> 8\u001b[0m \u001b[38;5;28mprint\u001b[39m(\u001b[43mvariable_locale\u001b[49m)\n",
      "\u001b[0;31mNameError\u001b[0m: name 'variable_locale' is not defined"
     ]
    }
   ],
   "source": [
    "def f3(x):\n",
    "    variable_locale = 3\n",
    "    print(variable_globale) #connait la variable globale -> pas d'erreur\n",
    "    return (variable_locale + x) #variable_locale est détruite\n",
    "\n",
    "variable_globale = 4\n",
    "f3(2)\n",
    "print(variable_locale) #la variable locale n'existe plus -> erreur"
   ]
  },
  {
   "cell_type": "markdown",
   "id": "f3a19e00",
   "metadata": {},
   "source": [
    "## Conclusion"
   ]
  },
  {
   "cell_type": "markdown",
   "id": "f10d9b6a",
   "metadata": {},
   "source": [
    "Nous avons vu ici un certain nombre de fonctionnalité Python qui permettront de résoudre un bon nombre des problèmes qui vous allez rencontrés en pratique. Cette liste est très (très) loin d'être exhaustive! Il existe en effet une beaucoup de fonctions pré-implémentées en Python. Il faut donc être curieux pour les découvrir et ne pas se limiter à ces quelques notes!"
   ]
  },
  {
   "cell_type": "markdown",
   "id": "2ce7aba2",
   "metadata": {},
   "source": [
    "## Bibliothèques usuelles pour le calcul scientifique *"
   ]
  },
  {
   "cell_type": "markdown",
   "id": "943f7f36",
   "metadata": {},
   "source": [
    "En pratique, dans un contexte de calcul scientifique, on ne fera jamais d'opérations mathématiques sur des objets Python natifs (liste,...). À la place, on préferera utiliser certaines bibliothèques qui optimisent ce type d'opérations. En fait, c'est généralement une mauvaise idée de recoder des fonctions existantes : derrière les bibiothèques usuelles, il y a souvent de nombreux développeurs qui ont travaillé à l'optimisation de chaque fonction. Ces fonctions font généralement appels à des codes C++ ou Fortran sous-jacents où la gestion de la mémoire est optimisée, notamment avec des implémentations **multi-threadées**.\n",
    "\n",
    "Au final, les structures et fonctions Python natives seront plus utilisées pour les petites tâches \"au second ordre\" et pour des structures de petites tailles. Bref, des opérations qui ne pèsent pas lourds dans le temps de calcul."
   ]
  },
  {
   "cell_type": "markdown",
   "id": "611da95b",
   "metadata": {},
   "source": [
    "L'usage de la bibliothèque **NumPy** est particulièrement courant. On l'appelera de la façon suivante : "
   ]
  },
  {
   "cell_type": "code",
   "execution_count": null,
   "id": "79aa35d4",
   "metadata": {},
   "outputs": [],
   "source": [
    "import numpy as np #crée l'alias np pour numpy"
   ]
  },
  {
   "cell_type": "markdown",
   "id": "96d04862",
   "metadata": {},
   "source": [
    "La bibliothèque NumPy se base sur des objets de type **array**. On peut les voir comme des tableaux qui stockent un même type de données. Ceux-ci peuvent être de dimensions quelconques, ce qui les rend particulièrement adaptées à la représentation de vecteurs, matrices,... L'exemple suivant montre la création d'array à partir de listes et le renvoi de coefficients."
   ]
  },
  {
   "cell_type": "code",
   "execution_count": 90,
   "id": "102983c2",
   "metadata": {},
   "outputs": [
    {
     "name": "stdout",
     "output_type": "stream",
     "text": [
      "A : \n",
      " [4 5 6 7]\n",
      "B : \n",
      " [[1 2]\n",
      " [3 4]]\n",
      "B[1, 1] :  4\n",
      "B[:, 0] : \n",
      " [1 3]\n"
     ]
    }
   ],
   "source": [
    "A = np.array([4, 5, 6, 7])\n",
    "print(\"A : \\n\", A)\n",
    "\n",
    "B = np.array([[1, 2], [3, 4]]) #Matrice 2x2\n",
    "\n",
    "print(\"B : \\n\", B)\n",
    "\n",
    "print(\"B[1, 1] : \", B[1, 1])\n",
    "print(\"B[:, 0] : \\n\", B[:, 0]) #on renvoie la première colonne de B"
   ]
  },
  {
   "cell_type": "markdown",
   "id": "e3984d07",
   "metadata": {},
   "source": [
    "On peut initialiser un array de biens d'autres manières, ce qui est généralement pratique. Voici des initialisations courantes :\n",
    "- arange() : équivalent de range() mais qui renvoie une array\n",
    "- linspace(valeur_debut, valeur_fin, nb_point) : array qui va de valeur_debut jusqu'à valeur_fin en un nombre de point nb_point\n",
    "- zeros : array de 0\n",
    "- ones : array de 1\n",
    "- eye : matrice identité"
   ]
  },
  {
   "cell_type": "code",
   "execution_count": 84,
   "id": "12d43283",
   "metadata": {},
   "outputs": [
    {
     "name": "stdout",
     "output_type": "stream",
     "text": [
      "arange :  [0 1 2 3 4]\n",
      "linspace :  [1.         1.44444444 1.88888889 2.33333333 2.77777778 3.22222222\n",
      " 3.66666667 4.11111111 4.55555556 5.        ]\n",
      "zeros :  [0. 0. 0. 0. 0. 0. 0. 0. 0. 0.]\n",
      "ones :  [1. 1. 1. 1. 1. 1. 1. 1. 1. 1.]\n",
      "eye : \n",
      " [[1. 0. 0.]\n",
      " [0. 1. 0.]\n",
      " [0. 0. 1.]]\n"
     ]
    }
   ],
   "source": [
    "arr_2 = np.arange(5)\n",
    "print(\"arange : \", arr_2)\n",
    "\n",
    "arr_3 = np.linspace(1, 5, 10)\n",
    "print(\"linspace : \", arr_3)\n",
    "\n",
    "arr_4 = np.zeros(10)\n",
    "print(\"zeros : \", arr_4)\n",
    "\n",
    "arr_5 = np.ones(10)\n",
    "print(\"ones : \", arr_5)\n",
    "\n",
    "arr_6 = np.eye(3)\n",
    "print(\"eye : \\n\", arr_6)"
   ]
  },
  {
   "cell_type": "markdown",
   "id": "ae4cbe86",
   "metadata": {},
   "source": [
    "Une fois l'objet crée on peut simplement renvoyer ses dimensions (shape) et les modifier simplement (reshape) :"
   ]
  },
  {
   "cell_type": "code",
   "execution_count": 97,
   "id": "d388c73f",
   "metadata": {},
   "outputs": [
    {
     "name": "stdout",
     "output_type": "stream",
     "text": [
      "np.shape(B) : \n",
      " (2, 2)\n",
      "np.reshape(B, (4, 1)) : \n",
      " [[1]\n",
      " [2]\n",
      " [3]\n",
      " [4]]\n"
     ]
    }
   ],
   "source": [
    "B = np.array([[1, 2], [3, 4]]) #Matrice 2x2\n",
    "\n",
    "print(\"np.shape(B) : \\n\", np.shape(B))\n",
    "print(\"np.reshape(B, (4, 1)) : \\n\", np.reshape(B, (4, 1))) #Vecteur 4x1"
   ]
  },
  {
   "cell_type": "markdown",
   "id": "c82c2d82",
   "metadata": {},
   "source": [
    "La manipulation des array est particulièrement flexible est permet de réduire grandement la code en faveur de sa clarté. Supposons qu'on veuille tracer la fonction exponentielle entre 0 et 1. Cela peut se faire en trois lignes de code seulement! On utilisera en plus de Numpy la bibliothèque de visualisation **Matplotlib** et plus particulièrement son module **Pyplot** qui permet de réaliser simplement des graphes."
   ]
  },
  {
   "cell_type": "code",
   "execution_count": 94,
   "id": "d3950d20",
   "metadata": {},
   "outputs": [
    {
     "data": {
      "text/plain": [
       "[<matplotlib.lines.Line2D at 0x7f4831ebed00>]"
      ]
     },
     "execution_count": 94,
     "metadata": {},
     "output_type": "execute_result"
    },
    {
     "data": {
      "image/png": "[encoded data removed]",
      "text/plain": [
       "<Figure size 640x480 with 1 Axes>"
      ]
     },
     "metadata": {},
     "output_type": "display_data"
    }
   ],
   "source": [
    "import matplotlib.pyplot as plt\n",
    "\n",
    "x = np.linspace(0., 1., 10) #de 0 à 1 en 10 points\n",
    "y = np.exp(x)\n",
    "plt.plot(x, y, \"o-\")\n"
   ]
  },
  {
   "cell_type": "markdown",
   "id": "91a18b49",
   "metadata": {},
   "source": [
    "On va comparer les performances du Python natif et de Numpy pour un même problème. Il s'agit de réaliser le produit scalaire entre deux vecteurs $\\mathbf A$ et $\\mathbf B$ stockée dans un objet C:\n",
    "$$\n",
    "C = \n",
    "\\mathbf A \\cdot \\mathbf B = \\sum_{i} A_i B_i\n",
    "$$\n",
    "On voit que, même pour cette opération très simple, la différence de temps de calcul est significative : Python prend quasiment 100 fois plus longtemps!"
   ]
  },
  {
   "cell_type": "code",
   "execution_count": 83,
   "id": "ff406c81",
   "metadata": {},
   "outputs": [
    {
     "name": "stdout",
     "output_type": "stream",
     "text": [
      "Durée produit scalaire\n",
      "Temps Python natif :  0.15993165969848633\n",
      "Temps Numpy :  0.0012478828430175781\n"
     ]
    }
   ],
   "source": [
    "import time\n",
    "import numpy as np\n",
    "\n",
    "N = 1000000\n",
    "\n",
    "print(\"Durée produit scalaire\")\n",
    "\n",
    "#Produit scalaire Python natif\n",
    "A = [i for i in range(N)]\n",
    "B = [i for i in range(N)]\n",
    "\n",
    "t_ini = time.time()\n",
    "C = 0\n",
    "for indice in range(N):\n",
    "    C += A[indice]*B[indice]\n",
    "t_end = time.time()\n",
    "duration = t_end - t_ini\n",
    "print(\"Temps Python natif : \", duration)\n",
    "\n",
    "#Produit scalaire Numpy\n",
    "A = np.arange(N)\n",
    "B = np.arange(N)\n",
    "t_ini = time.time()\n",
    "C = A.dot(B)\n",
    "t_end = time.time()\n",
    "duration = t_end - t_ini\n",
    "print(\"Temps Numpy : \", duration)"
   ]
  },
  {
   "cell_type": "markdown",
   "id": "98580b5d",
   "metadata": {},
   "source": [
    "Cet écart de temps de calcul est d'autant plus grande que la taille des objets est importante. Typiquement si on reprend le cas précédent pour des vecteurs à 3 composantes, la différence de temps de calcul sera beaucoup plus petite. En résumé, pour des petits calculs, les fonctionnalités natives feront très bien l'affaire!"
   ]
  },
  {
   "cell_type": "code",
   "execution_count": 82,
   "id": "ba24aff6",
   "metadata": {},
   "outputs": [
    {
     "name": "stdout",
     "output_type": "stream",
     "text": [
      "Durée produit scalaire\n",
      "Temps Python natif :  9.679794311523438e-05 s\n",
      "Temps Numpy :  6.628036499023438e-05 s\n"
     ]
    }
   ],
   "source": [
    "import time\n",
    "import numpy as np\n",
    "\n",
    "N = 3\n",
    "\n",
    "print(\"Durée produit scalaire\")\n",
    "\n",
    "#Produit scalaire Python natif\n",
    "A = [i for i in range(N)]\n",
    "B = [i for i in range(N)]\n",
    "\n",
    "t_ini = time.time()\n",
    "C = 0\n",
    "for indice in range(N):\n",
    "    C += A[indice]*B[indice]\n",
    "t_end = time.time()\n",
    "duration = t_end - t_ini\n",
    "print(\"Temps Python natif : \", duration, \"s\")\n",
    "\n",
    "#Produit scalaire Numpy\n",
    "A = np.arange(N)\n",
    "B = np.arange(N)\n",
    "t_ini = time.time()\n",
    "C = A.dot(B)\n",
    "t_end = time.time()\n",
    "duration = t_end - t_ini\n",
    "print(\"Temps Numpy : \", duration, \"s\")"
   ]
  },
  {
   "cell_type": "markdown",
   "id": "940590d4",
   "metadata": {},
   "source": [
    "On constate que le code Numpy ne fait appel à aucune boucle for contrairement au Python natif. On dit que les opérations sont **vectorisées**. D'une manière générale, on évitera dès que possible d'utiliser des boucles parcourant des array au profit des opérations et fonctions déjà présentes dans la bibliothèque NumPy. Il existe de très nombreuses fonctions (optimisées) dans la bibliothèque NumPy qui permettent très généralement de faire ce que vous voulez faire. Ne réinventez pas la roue!\n",
    "\n",
    "Par exemple, mettons qu'on souhaite calculer la norme d'un vecteur $\\mathbf v$ :\n",
    "$$\n",
    "\\|\\mathbf v\\|\n",
    "=\n",
    "\\sqrt{\\sum_i v_i^2}.\n",
    "$$\n",
    "Cette opération ne prend qu'une ligne et ne nécéssite pas de boucle for."
   ]
  },
  {
   "cell_type": "code",
   "execution_count": null,
   "id": "2b1c3e13",
   "metadata": {},
   "outputs": [],
   "source": [
    "arr = np.random.random(100)\n",
    "norm = np.sqrt(np.sum(np.square(arr)))"
   ]
  },
  {
   "cell_type": "markdown",
   "id": "4ea4dade",
   "metadata": {},
   "source": [
    "En fait, NumPy possède même son propre module d'algèbre linéaire **numpy.linalg** qui permet de réaliser directement ce genre d'opération. Nous allons donc maintenant d'aborder l'utilisation des bibliothèques classiques pour l'algèbre linéaire."
   ]
  },
  {
   "cell_type": "markdown",
   "id": "698aa519",
   "metadata": {},
   "source": [
    "## Bibliothèques et algèbre linéaire *"
   ]
  },
  {
   "cell_type": "markdown",
   "id": "e2c17617",
   "metadata": {},
   "source": [
    "Les opérations classiques d'algèbre linéaire peuvent être réalisées avec Numpy. Typiquement, le calcul d'une norme peut se faire directement :"
   ]
  },
  {
   "cell_type": "code",
   "execution_count": 74,
   "id": "d90f237c",
   "metadata": {},
   "outputs": [
    {
     "name": "stdout",
     "output_type": "stream",
     "text": [
      "5.691300115063419\n"
     ]
    }
   ],
   "source": [
    "import numpy.linalg as la\n",
    "\n",
    "arr = np.random.random(100)\n",
    "print(la.norm(arr))"
   ]
  },
  {
   "cell_type": "markdown",
   "id": "2407fa0b",
   "metadata": {},
   "source": [
    "Le produit matrice-matrice, matrice-vecteur, vecteur-vecteur pourront être réalisés avec la fonction **dot** :"
   ]
  },
  {
   "cell_type": "code",
   "execution_count": 79,
   "id": "87009d63",
   "metadata": {},
   "outputs": [
    {
     "name": "stdout",
     "output_type": "stream",
     "text": [
      "M : \n",
      " [[1 3]\n",
      " [4 5]]\n",
      "v: \n",
      " [1 1]\n",
      "np.dot(M,v):  [4 9]\n",
      "v.dot(v) :  2\n"
     ]
    }
   ],
   "source": [
    "M = np.array([[1, 3], [4, 5]])\n",
    "v = np.array([1, 1])\n",
    "\n",
    "print(\"M : \\n\", M)\n",
    "print(\"v: \\n\", v)\n",
    "\n",
    "print(\"np.dot(M,v): \", np.dot(M,v)) #équivalent à M.dot(v)\n",
    "print(\"v.dot(v) : \", v.dot(v))"
   ]
  },
  {
   "cell_type": "markdown",
   "id": "99e038fb",
   "metadata": {},
   "source": [
    "La plupart des opérations classiques sur les matrices sont elles aussi présentes :\n",
    "- solve() : inversion de système linéaire\n",
    "- inv() : matrice inverse\n",
    "- det() : déterminant\n",
    "- eig() : calcul de valeurs propres\n",
    "- transpose() : transposition \n",
    "\n",
    "... et bien d'autres qui attendront quand vous en aurez besoin!"
   ]
  },
  {
   "cell_type": "code",
   "execution_count": 72,
   "id": "2782b587",
   "metadata": {},
   "outputs": [
    {
     "name": "stdout",
     "output_type": "stream",
     "text": [
      "Matrice inverse : \n",
      " [[ 1.11568302  1.76164344 -2.13477827]\n",
      " [ 1.76164344  0.93217155 -2.0484359 ]\n",
      " [-2.13477827 -2.0484359   3.97439044]]\n",
      "Déterminant : \n",
      " -0.5803266882702716\n",
      "Valeurs propres et vecteurs propres : \n",
      " (array([ 2.74865474, -1.35095409,  0.15628301]), array([[-0.56726784, -0.68410627, -0.45848207],\n",
      "       [-0.52588642,  0.72934752, -0.43760218],\n",
      "       [-0.63375916,  0.00712815,  0.77349759]]))\n",
      "M^1b\n",
      " [-2.13849974 -3.6355855   7.61747579]\n"
     ]
    }
   ],
   "source": [
    "import numpy.linalg as la \n",
    "\n",
    "M = np.random.random((3,3))\n",
    "M += M.transpose() #ou M.T\n",
    "\n",
    "print(\"Matrice inverse : \\n\", la.inv(M))\n",
    "print(\"Déterminant : \\n\", la.det(M))\n",
    "print(\"Valeurs propres et vecteurs propres : \\n\", la.eig(M))\n",
    "\n",
    "b = np.array([1., 3., 4.])\n",
    "\n",
    "print(\"M^1b\\n\", la.solve(M, b))"
   ]
  },
  {
   "cell_type": "markdown",
   "id": "1cebeab0",
   "metadata": {},
   "source": [
    "Enfin, il se peut que certaines fonctionnalités avancées soient absentes de NumPy. Il est commun de se tourner vers **SciPy** une autre bibliothèque très fournie de calcul scientifique opérant sur des np.array. Par exemple, contrairement à NumPy, SciPy possède un module spécialisé pour les matrices creuses dont nous allons maintenant parler."
   ]
  },
  {
   "cell_type": "markdown",
   "id": "1095d920",
   "metadata": {},
   "source": [
    "## Stockage de matrice creuse **"
   ]
  },
  {
   "cell_type": "markdown",
   "id": "0634bf20",
   "metadata": {},
   "source": [
    "Souvent les matrices considérées auront un grand nombre de zéro. C'est généralement le cas des matrices de rigidité en éléments finis : c'est d'ailleurs un des avantages de la méthode! On parle de matrice **creuse** ou **sparse**. On serait rapidement bloqué en terme de coût de stockage si on devait stocker tous les éléments d'une grande matrice creuse. C'est le cas des array Numpy qui stockent tous les coefficients."
   ]
  },
  {
   "cell_type": "code",
   "execution_count": 67,
   "id": "483733f6",
   "metadata": {},
   "outputs": [
    {
     "ename": "MemoryError",
     "evalue": "Unable to allocate 728. TiB for an array with shape (10000000, 10000000) and data type float64",
     "output_type": "error",
     "traceback": [
      "\u001b[0;31m---------------------------------------------------------------------------\u001b[0m",
      "\u001b[0;31mMemoryError\u001b[0m                               Traceback (most recent call last)",
      "Cell \u001b[0;32mIn[67], line 2\u001b[0m\n\u001b[1;32m      1\u001b[0m \u001b[38;5;28;01mimport\u001b[39;00m \u001b[38;5;21;01mnumpy\u001b[39;00m \u001b[38;5;28;01mas\u001b[39;00m \u001b[38;5;21;01mnp\u001b[39;00m\n\u001b[0;32m----> 2\u001b[0m I \u001b[38;5;241m=\u001b[39m \u001b[43mnp\u001b[49m\u001b[38;5;241;43m.\u001b[39;49m\u001b[43meye\u001b[49m\u001b[43m(\u001b[49m\u001b[38;5;241;43m10000000\u001b[39;49m\u001b[43m)\u001b[49m\n",
      "File \u001b[0;32m~/anaconda3/lib/python3.9/site-packages/numpy/lib/twodim_base.py:209\u001b[0m, in \u001b[0;36meye\u001b[0;34m(N, M, k, dtype, order, like)\u001b[0m\n\u001b[1;32m    207\u001b[0m \u001b[38;5;28;01mif\u001b[39;00m M \u001b[38;5;129;01mis\u001b[39;00m \u001b[38;5;28;01mNone\u001b[39;00m:\n\u001b[1;32m    208\u001b[0m     M \u001b[38;5;241m=\u001b[39m N\n\u001b[0;32m--> 209\u001b[0m m \u001b[38;5;241m=\u001b[39m \u001b[43mzeros\u001b[49m\u001b[43m(\u001b[49m\u001b[43m(\u001b[49m\u001b[43mN\u001b[49m\u001b[43m,\u001b[49m\u001b[43m \u001b[49m\u001b[43mM\u001b[49m\u001b[43m)\u001b[49m\u001b[43m,\u001b[49m\u001b[43m \u001b[49m\u001b[43mdtype\u001b[49m\u001b[38;5;241;43m=\u001b[39;49m\u001b[43mdtype\u001b[49m\u001b[43m,\u001b[49m\u001b[43m \u001b[49m\u001b[43morder\u001b[49m\u001b[38;5;241;43m=\u001b[39;49m\u001b[43morder\u001b[49m\u001b[43m)\u001b[49m\n\u001b[1;32m    210\u001b[0m \u001b[38;5;28;01mif\u001b[39;00m k \u001b[38;5;241m>\u001b[39m\u001b[38;5;241m=\u001b[39m M:\n\u001b[1;32m    211\u001b[0m     \u001b[38;5;28;01mreturn\u001b[39;00m m\n",
      "\u001b[0;31mMemoryError\u001b[0m: Unable to allocate 728. TiB for an array with shape (10000000, 10000000) and data type float64"
     ]
    }
   ],
   "source": [
    "import numpy as np\n",
    "I = np.eye(10000000)"
   ]
  },
  {
   "cell_type": "markdown",
   "id": "adccafbf",
   "metadata": {},
   "source": [
    "On peut imaginer alors un stockage astucieux dans lequel on ne stocke pas tous les coefficients, mais seulement les coefficients non-nuls, en partant du principe que le valeur est 0 par défaut. Cela revient à stocker seulement les exceptions à 0. On parle de **stockage sparse**. Cette méthode permet naturellement de travailler avec des matrices beaucoup plus grandes. Bien qu'il existe plusieurs moyens de réaliser ce stockage (COO, CSR,...), l'idée consiste dans les grandes lignes à simplement stocker les coordonnées des non-zéros et la valeur associée. Ce stockage est pris en compte par la bibliothèque Scipy et son **module sparse**."
   ]
  },
  {
   "cell_type": "code",
   "execution_count": 68,
   "id": "a7bf315f",
   "metadata": {},
   "outputs": [],
   "source": [
    "import scipy.sparse as sp\n",
    "I = sp.identity(10000000)"
   ]
  },
  {
   "cell_type": "markdown",
   "id": "adbbf17f",
   "metadata": {},
   "source": [
    "Naturellement, ce stockage spécial induit des algorithmes particuliers pour réaliser les opérations classiques sur les matrices. Scipy possède ainsi une bibliothèque d'algèbre linéaire adaptée à ce stokage (**scipy.sparse.linalg**). Attention! N'utilisez pas les fonctions NumPy directement sur une matrice sparse : NumPy ne sait pas ce que c'est et n'est pas prévu pour!\n",
    "\n",
    "Les algorithmes adaptés au stockage sparse permettent de faire chuter les temps de calcul en diminuant grandement la complexité algorithme, les opérations n'étant réalisées que sur les coefficients non-nuls. Pour un produit matrice-vecteur, la compléxité pour des matrices **denses** est $O(n^2)$. Elle tombe ici à $O(n\\times nz)$ où $nz$ est le nombre de coefficients non-nuls de la matrice. Le stockage sparse permet donc d'optimiser les opérations mathématiques sur les matrices tant en coût de stockage qu'en complexité."
   ]
  },
  {
   "cell_type": "code",
   "execution_count": 70,
   "id": "5ea71daf",
   "metadata": {},
   "outputs": [
    {
     "name": "stdout",
     "output_type": "stream",
     "text": [
      "Matrix-vector product duration\n",
      "NumPy :  0.06318306922912598 s\n",
      "Scipy sparse :  7.796287536621094e-05 s\n"
     ]
    }
   ],
   "source": [
    "import time\n",
    "import numpy as np\n",
    "import scipy.sparse as sp\n",
    "\n",
    "\n",
    "N = 10000\n",
    "\n",
    "I = np.eye(N)\n",
    "b = np.ones((N, 1))\n",
    "\n",
    "t_0 = time.time()\n",
    "I.dot(b)\n",
    "t_f = time.time()\n",
    "\n",
    "duration = t_f - t_0\n",
    "print(\"Matrix-vector product duration\")\n",
    "print(\"NumPy : \", duration, \"s\")\n",
    "\n",
    "I2 = sp.identity(N)\n",
    "\n",
    "t_0 = time.time()\n",
    "I2.dot(b) #call sparse.dot()\n",
    "t_f = time.time()\n",
    "\n",
    "duration = t_f - t_0\n",
    "print(\"Scipy sparse : \", duration, \"s\")\n"
   ]
  },
  {
   "cell_type": "markdown",
   "id": "93db0b88",
   "metadata": {},
   "source": [
    "## Conclusion"
   ]
  },
  {
   "cell_type": "markdown",
   "id": "d914605d",
   "metadata": {},
   "source": [
    "Nous avons vu les fonctionnalités de base du langage Python en insistant sur leur utilisation dans un contexte de programmation scientifique. En résumé, bien que tout puisse être fait directement avec les fonctionnalités natives, on préférera utiliser des bibliothèques dédiées, typiquement NumPy, présentant des structures de données et des fonctions adaptées et optimisées pour le calcul scientifique. Ces bibliothèques sont particulièrement touffues et il est très probable qu'une fonction déjà implementée permettent de résoudre votre problème. Le problème est souvent de trouver laquelle et avec quels paramètres l'utiliser! Pour autant, il ne s'agit pas de placer dans les array absolument partout mais aux endroits où cela est nécessaire au premier ordre, typiquement les opérations qui impacteront le temps de calcul.\n",
    "Enfin, il peut être tentant d'utiliser les biliothèques sans comprendre ce qu'il se passe derrière : vous vous devez de comprendre ce que font les fonctions, notamment pour savoir dans quel cadre elles sont efficaces ou non. Dans la suite du cours, nous allons justement aborder les méthodes numériques courantes, dont la plupart seront déjà implémentées dans vos bibliothèques préférées, en insistant sur leur philosophie pour que vous ayez l'esprit critique nécessaire pour en voir les avantages et les limites."
   ]
  }
 ],
 "metadata": {
  "kernelspec": {
   "display_name": "Python 3 (ipykernel)",
   "language": "python",
   "name": "python3"
  },
  "language_info": {
   "codemirror_mode": {
    "name": "ipython",
    "version": 3
   },
   "file_extension": ".py",
   "mimetype": "text/x-python",
   "name": "python",
   "nbconvert_exporter": "python",
   "pygments_lexer": "ipython3",
   "version": "3.9.7"
  }
 },
 "nbformat": 4,
 "nbformat_minor": 5
}
